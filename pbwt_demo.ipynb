{
 "cells": [
  {
   "cell_type": "markdown",
   "metadata": {},
   "source": [
    "# Positional Burrows-Wheeler Transform (pbwt) Demo"
   ]
  },
  {
   "cell_type": "code",
   "execution_count": 1,
   "metadata": {},
   "outputs": [],
   "source": [
    "X = [[0, 1, 0, 1, 0, 1],\n",
    "     [1, 1, 0, 0, 0, 1],\n",
    "     [1, 1, 1, 1, 1, 1],\n",
    "     [0, 1, 1, 1, 1, 0],\n",
    "     [0, 0, 0, 0, 0, 0],\n",
    "     [1, 0, 0, 0, 1, 0],\n",
    "     [1, 1, 0, 0, 0, 1],\n",
    "     [0, 1, 0, 1, 1, 0]]"
   ]
  },
  {
   "cell_type": "code",
   "execution_count": 2,
   "metadata": {},
   "outputs": [],
   "source": [
    "def build_prefix_array(X):\n",
    "    \n",
    "    # M haplotypes\n",
    "    M = len(X)\n",
    "\n",
    "    # N variable sites\n",
    "    N = len(X[0])\n",
    "    \n",
    "    # initialise positional prefix array\n",
    "    ppa = list(range(M))\n",
    "    \n",
    "    # iterate over variants\n",
    "    for k in range(N-1):\n",
    "\n",
    "        # setup intermediates\n",
    "        a = list()\n",
    "        b = list()\n",
    "    \n",
    "        # iterate over haplotypes in reverse prefix sorted order\n",
    "        for index in ppa:\n",
    "\n",
    "            # current haplotype\n",
    "            haplotype = X[index]\n",
    "            \n",
    "            # allele for current haplotype\n",
    "            allele = haplotype[k]\n",
    "            \n",
    "            # update intermediates\n",
    "            if allele == 0:\n",
    "                a.append(index)\n",
    "            else:\n",
    "                b.append(index)\n",
    "                \n",
    "        # construct the new positional prefix array for k+1 by concatenating lists a and b\n",
    "        ppa = a + b\n",
    "        \n",
    "    return ppa\n"
   ]
  },
  {
   "cell_type": "code",
   "execution_count": 3,
   "metadata": {},
   "outputs": [
    {
     "data": {
      "text/plain": [
       "[4, 1, 6, 0, 5, 7, 3, 2]"
      ]
     },
     "execution_count": 3,
     "metadata": {},
     "output_type": "execute_result"
    }
   ],
   "source": [
    "build_prefix_array(X)"
   ]
  },
  {
   "cell_type": "code",
   "execution_count": 4,
   "metadata": {},
   "outputs": [],
   "source": [
    "def display_prefix_array(X):\n",
    "    from IPython.display import display_html\n",
    "    ppa = build_prefix_array(X)\n",
    "    html = '<pre style=\"line-height: 100%\">'\n",
    "    for index in ppa:\n",
    "        haplotype = X[index]\n",
    "        html += str(index) + '|' + ''.join(str(allele) for allele in haplotype[:-1])\n",
    "        html += '  ' + str(haplotype[-1]) + '<br/>'\n",
    "    html += '</pre>'\n",
    "    display_html(html, raw=True)"
   ]
  },
  {
   "cell_type": "code",
   "execution_count": 5,
   "metadata": {},
   "outputs": [
    {
     "data": {
      "text/html": [
       "<pre style=\"line-height: 100%\">4|00000  0<br/>1|11000  1<br/>6|11000  1<br/>0|01010  1<br/>5|10001  0<br/>7|01011  0<br/>3|01111  0<br/>2|11111  1<br/></pre>"
      ]
     },
     "metadata": {},
     "output_type": "display_data"
    }
   ],
   "source": [
    "display_prefix_array(X)"
   ]
  },
  {
   "cell_type": "code",
   "execution_count": 6,
   "metadata": {},
   "outputs": [],
   "source": [
    "def build_prefix_and_divergence_arrays(X):\n",
    "    \n",
    "    # M haplotypes\n",
    "    M = len(X)\n",
    "\n",
    "    # N variable sites\n",
    "    N = len(X[0])\n",
    "    \n",
    "    # initialise positional prefix array\n",
    "    ppa = list(range(M))\n",
    "    \n",
    "    # initialise divergence array\n",
    "    div = [0] * M\n",
    "    \n",
    "    # iterate over variants\n",
    "    for k in range(N-1):\n",
    "\n",
    "        # setup intermediates\n",
    "        a = list()\n",
    "        b = list()\n",
    "        d = list()\n",
    "        e = list()\n",
    "        p = q = k + 1\n",
    "    \n",
    "        # iterate over haplotypes in reverse prefix sorted order\n",
    "        for index, match_start in zip(ppa, div):\n",
    "\n",
    "            # current haplotype\n",
    "            haplotype = X[index]\n",
    "            \n",
    "            # allele for current haplotype\n",
    "            allele = haplotype[k]\n",
    "            \n",
    "            # update intermediates\n",
    "            if match_start > p:\n",
    "                p = match_start\n",
    "            if match_start > q:\n",
    "                q = match_start\n",
    "\n",
    "            # update intermediates\n",
    "            if allele == 0:\n",
    "                a.append(index)\n",
    "                d.append(p)\n",
    "                p = 0\n",
    "            else:\n",
    "                b.append(index)\n",
    "                e.append(q)\n",
    "                q = 0\n",
    "                \n",
    "        # construct the new arrays for k+1 by concatenating intermediates\n",
    "        ppa = a + b\n",
    "        div = d + e\n",
    "        \n",
    "    return ppa, div"
   ]
  },
  {
   "cell_type": "code",
   "execution_count": 7,
   "metadata": {},
   "outputs": [],
   "source": [
    "ppa, div = build_prefix_and_divergence_arrays(X)"
   ]
  },
  {
   "cell_type": "code",
   "execution_count": 8,
   "metadata": {},
   "outputs": [
    {
     "data": {
      "text/plain": [
       "[4, 1, 6, 0, 5, 7, 3, 2]"
      ]
     },
     "execution_count": 8,
     "metadata": {},
     "output_type": "execute_result"
    }
   ],
   "source": [
    "ppa"
   ]
  },
  {
   "cell_type": "code",
   "execution_count": 9,
   "metadata": {},
   "outputs": [
    {
     "data": {
      "text/plain": [
       "[5, 2, 0, 4, 5, 4, 3, 1]"
      ]
     },
     "execution_count": 9,
     "metadata": {},
     "output_type": "execute_result"
    }
   ],
   "source": [
    "div"
   ]
  },
  {
   "cell_type": "code",
   "execution_count": 10,
   "metadata": {},
   "outputs": [],
   "source": [
    "def display_prefix_and_divergence_arrays(X):\n",
    "    from IPython.display import display_html\n",
    "    ppa, div = build_prefix_and_divergence_arrays(X)\n",
    "    html = '<pre style=\"line-height: 100%\">'\n",
    "    for index, match_start in zip(ppa, div):\n",
    "        haplotype = X[index]\n",
    "        html += str(index) + '|'\n",
    "        for k, allele in enumerate(haplotype[:-1]):\n",
    "            if match_start == k:\n",
    "                html += '<strong><u>'\n",
    "            html += str(allele)\n",
    "        if match_start < len(haplotype) - 1:\n",
    "            html += '</u></strong>'\n",
    "        html += '  ' + str(haplotype[-1]) + '<br/>'\n",
    "    html += '</pre>'\n",
    "    display_html(html, raw=True)"
   ]
  },
  {
   "cell_type": "code",
   "execution_count": 11,
   "metadata": {},
   "outputs": [
    {
     "data": {
      "text/html": [
       "<pre style=\"line-height: 100%\">4|00000  0<br/>1|11<strong><u>000</u></strong>  1<br/>6|<strong><u>11000</u></strong>  1<br/>0|0101<strong><u>0</u></strong>  1<br/>5|10001  0<br/>7|0101<strong><u>1</u></strong>  0<br/>3|011<strong><u>11</u></strong>  0<br/>2|1<strong><u>1111</u></strong>  1<br/></pre>"
      ]
     },
     "metadata": {},
     "output_type": "display_data"
    }
   ],
   "source": [
    "display_prefix_and_divergence_arrays(X)"
   ]
  },
  {
   "cell_type": "code",
   "execution_count": 12,
   "metadata": {},
   "outputs": [],
   "source": [
    "def report_long_matches(X, L):\n",
    "    \n",
    "    # M haplotypes\n",
    "    M = len(X)\n",
    "\n",
    "    # N variable sites\n",
    "    N = len(X[0])\n",
    "    \n",
    "    # initialise positional prefix array\n",
    "    ppa = list(range(M))\n",
    "    \n",
    "    # initialise divergence array\n",
    "    div = [0] * M\n",
    "    \n",
    "    # iterate over variants\n",
    "    for k in range(N):\n",
    "\n",
    "        # setup intermediates\n",
    "        a = list()\n",
    "        b = list()\n",
    "        d = list()\n",
    "        e = list()\n",
    "        p = q = k + 1\n",
    "        ma = list()\n",
    "        mb = list()\n",
    "    \n",
    "        # iterate over haplotypes in reverse prefix sorted order\n",
    "        for index, match_start in zip(ppa, div):\n",
    "            \n",
    "            # report matches\n",
    "            if match_start > k - L:\n",
    "                if ma and mb:\n",
    "                    yield k, ma, mb\n",
    "                ma = list()\n",
    "                mb = list()\n",
    "\n",
    "            # current haplotype\n",
    "            haplotype = X[index]\n",
    "            \n",
    "            # allele for current haplotype\n",
    "            allele = haplotype[k]\n",
    "            \n",
    "            # update intermediates\n",
    "            if match_start > p:\n",
    "                p = match_start\n",
    "            if match_start > q:\n",
    "                q = match_start\n",
    "\n",
    "            # update intermediates\n",
    "            if allele == 0:\n",
    "                a.append(index)\n",
    "                d.append(p)\n",
    "                p = 0\n",
    "                ma.append(index)\n",
    "            else:\n",
    "                b.append(index)\n",
    "                e.append(q)\n",
    "                q = 0\n",
    "                mb.append(index)\n",
    "                \n",
    "        # report any remaining matches including final haplotype (N.B., not in Durbin 2014)\n",
    "        if ma and mb:\n",
    "            yield k, ma, mb\n",
    "                \n",
    "        # construct the new arrays for k+1\n",
    "        if k < N - 1:\n",
    "            ppa = a + b\n",
    "            div = d + e"
   ]
  },
  {
   "cell_type": "code",
   "execution_count": 13,
   "metadata": {},
   "outputs": [
    {
     "name": "stdout",
     "output_type": "stream",
     "text": [
      "(4, [4], [5])\n",
      "(4, [0], [7])\n",
      "(5, [4], [1, 6])\n",
      "(5, [3], [2])\n"
     ]
    }
   ],
   "source": [
    "for match in report_long_matches(X, 3):\n",
    "    print(match)"
   ]
  },
  {
   "cell_type": "code",
   "execution_count": 14,
   "metadata": {},
   "outputs": [],
   "source": [
    "def display_long_matches(X, L):\n",
    "    from IPython.display import display_html\n",
    "    html = '<pre style=\"line-height: 100%\">'\n",
    "    for match in report_long_matches(X, L):\n",
    "        k, ma, mb = match\n",
    "        for i in sorted(ma):\n",
    "            for j in sorted(mb):\n",
    "                html += 'match ending at position %s between haplotypes %s and %s:<br/><br/>' % (k, i, j)\n",
    "                h1 = X[i][k-L:k+1]\n",
    "                h2 = X[j][k-L:k+1]\n",
    "                html += str(i) + '|' + ''.join(str(allele) for allele in h1[:-1]) \n",
    "                html += str(h1[-1]) + '<br/>'\n",
    "                html += str(j) + '|<strong><u>' + ''.join(str(allele) for allele in h2[:-1]) + '</u></strong>'\n",
    "                html += str(h2[-1]) + '<br/><br/>'\n",
    "    html += '</pre>'\n",
    "    display_html(html, raw=True)"
   ]
  },
  {
   "cell_type": "code",
   "execution_count": 15,
   "metadata": {},
   "outputs": [
    {
     "data": {
      "text/html": [
       "<pre style=\"line-height: 100%\">match ending at position 4 between haplotypes 4 and 5:<br/><br/>4|0000<br/>5|<strong><u>000</u></strong>1<br/><br/>match ending at position 4 between haplotypes 0 and 7:<br/><br/>0|1010<br/>7|<strong><u>101</u></strong>1<br/><br/>match ending at position 5 between haplotypes 4 and 1:<br/><br/>4|0000<br/>1|<strong><u>000</u></strong>1<br/><br/>match ending at position 5 between haplotypes 4 and 6:<br/><br/>4|0000<br/>6|<strong><u>000</u></strong>1<br/><br/>match ending at position 5 between haplotypes 3 and 2:<br/><br/>3|1110<br/>2|<strong><u>111</u></strong>1<br/><br/></pre>"
      ]
     },
     "metadata": {},
     "output_type": "display_data"
    }
   ],
   "source": [
    "display_long_matches(X, 3)"
   ]
  },
  {
   "cell_type": "code",
   "execution_count": 16,
   "metadata": {},
   "outputs": [],
   "source": [
    "def report_set_maximal_matches(X):\n",
    "\n",
    "    # M haplotypes\n",
    "    M = len(X)\n",
    "\n",
    "    # N variable sites\n",
    "    N = len(X[0])\n",
    "    \n",
    "    # initialise positional prefix array\n",
    "    ppa = list(range(M))\n",
    "    \n",
    "    # initialise divergence array\n",
    "    div = [0] * M\n",
    "    \n",
    "    # iterate over variants\n",
    "    for k in range(N):\n",
    "        \n",
    "        # sentinel\n",
    "        div.append(k+1)\n",
    "        \n",
    "        for i in range(M):\n",
    "            \n",
    "            m = i - 1\n",
    "            n = i + 1\n",
    "            match_continues = False\n",
    "            \n",
    "            if div[i] <= div[i+1]:\n",
    "                # match to previous neighbour is longer, scan \"down\" the haplotypes (decreasing indices)\n",
    "                while div[m+1] <= div[i]:\n",
    "                    if X[ppa[m]][k] == X[ppa[i]][k]:\n",
    "                        match_continues = True\n",
    "                        break\n",
    "                    m -= 1\n",
    "            if match_continues:\n",
    "                continue\n",
    "                    \n",
    "            if div[i] >= div[i+1]:\n",
    "                # match to next neighbour is longer, scan \"up\" the haplotypes (increasing indices)\n",
    "                while div[n] <= div[i+1]:\n",
    "                    if X[ppa[n]][k] == X[ppa[i]][k]:\n",
    "                        match_continues = True\n",
    "                        break\n",
    "                    n += 1\n",
    "            if match_continues:\n",
    "                continue\n",
    "                \n",
    "            for j in range(m+1, i):\n",
    "                if div[i] < k:  # N.B., avoid 0 length matches, not in Durbin (2014)\n",
    "                    yield ppa[i], ppa[j], div[i], k\n",
    "                \n",
    "            for j in range(i+1, n):\n",
    "                if div[i+1] < k:  # N.B., avoid 0 length matches, not in Durbin (2014)\n",
    "                    yield ppa[i], ppa[j], div[i+1], k\n",
    "                    \n",
    "        # build next prefix and divergence arrays\n",
    "        if k < N - 1:        \n",
    "                \n",
    "            # setup intermediates\n",
    "            a = list()\n",
    "            b = list()\n",
    "            d = list()\n",
    "            e = list()\n",
    "            p = q = k + 1\n",
    "\n",
    "            # iterate over haplotypes in prefix sorted order\n",
    "            for index, match_start in zip(ppa, div):\n",
    "\n",
    "                # current haplotype\n",
    "                haplotype = X[index]\n",
    "\n",
    "                # allele for current haplotype\n",
    "                allele = haplotype[k]\n",
    "\n",
    "                # update intermediates\n",
    "                if match_start > p:\n",
    "                    p = match_start\n",
    "                if match_start > q:\n",
    "                    q = match_start\n",
    "\n",
    "                # update intermediates\n",
    "                if allele == 0:\n",
    "                    a.append(index)\n",
    "                    d.append(p)\n",
    "                    p = 0\n",
    "                else:\n",
    "                    b.append(index)\n",
    "                    e.append(q)\n",
    "                    q = 0\n",
    "\n",
    "            # construct the new arrays for k+1\n",
    "            ppa = a + b\n",
    "            div = d + e\n"
   ]
  },
  {
   "cell_type": "code",
   "execution_count": 17,
   "metadata": {},
   "outputs": [
    {
     "name": "stdout",
     "output_type": "stream",
     "text": [
      "(4, 0, 0, 1)\n",
      "(4, 3, 0, 1)\n",
      "(4, 7, 0, 1)\n",
      "(5, 1, 0, 1)\n",
      "(5, 2, 0, 1)\n",
      "(5, 6, 0, 1)\n",
      "(3, 0, 0, 2)\n",
      "(3, 7, 0, 2)\n",
      "(2, 1, 0, 2)\n",
      "(2, 6, 0, 2)\n",
      "(4, 5, 1, 4)\n",
      "(5, 4, 1, 4)\n",
      "(0, 7, 0, 4)\n",
      "(7, 0, 0, 4)\n",
      "(4, 1, 2, 5)\n",
      "(4, 6, 2, 5)\n",
      "(3, 2, 1, 5)\n",
      "(2, 3, 1, 5)\n"
     ]
    }
   ],
   "source": [
    "for match in report_set_maximal_matches(X):\n",
    "    print(match)\n"
   ]
  },
  {
   "cell_type": "code",
   "execution_count": 18,
   "metadata": {},
   "outputs": [],
   "source": [
    "def display_set_maximal_matches(X):\n",
    "    from IPython.display import display_html\n",
    "    from operator import itemgetter\n",
    "    from itertools import groupby\n",
    "    html = '<pre style=\"line-height: 100%\">'\n",
    "    matches = sorted(report_set_maximal_matches(X), key=itemgetter(0, 2))\n",
    "    for i, sub_matches in groupby(matches, key=itemgetter(0)):\n",
    "        html += 'set maximal matches for haplotype %s:<br/><br/>' % i\n",
    "        hi = X[i]\n",
    "        html += str(i) + '|' + ''.join(map(str, hi)) + '<br/>'\n",
    "        for _, j, k1, k2 in sub_matches:\n",
    "            hj = X[j]\n",
    "            html += str(j) + '|' + ''.join(map(str, hj[:k1]))\n",
    "            html += '<strong><u>' + ''.join(map(str, hj[k1:k2])) + '</u></strong>'\n",
    "            html += ''.join(map(str, hj[k2:])) + '<br/>'\n",
    "        html += '<br/>'\n",
    "    html += '</pre>'\n",
    "    display_html(html, raw=True)"
   ]
  },
  {
   "cell_type": "code",
   "execution_count": 19,
   "metadata": {},
   "outputs": [
    {
     "data": {
      "text/html": [
       "<pre style=\"line-height: 100%\">set maximal matches for haplotype 0:<br/><br/>0|010101<br/>7|<strong><u>0101</u></strong>10<br/><br/>set maximal matches for haplotype 2:<br/><br/>2|111111<br/>1|<strong><u>11</u></strong>0001<br/>6|<strong><u>11</u></strong>0001<br/>3|0<strong><u>1111</u></strong>0<br/><br/>set maximal matches for haplotype 3:<br/><br/>3|011110<br/>0|<strong><u>01</u></strong>0101<br/>7|<strong><u>01</u></strong>0110<br/>2|1<strong><u>1111</u></strong>1<br/><br/>set maximal matches for haplotype 4:<br/><br/>4|000000<br/>0|<strong><u>0</u></strong>10101<br/>3|<strong><u>0</u></strong>11110<br/>7|<strong><u>0</u></strong>10110<br/>5|1<strong><u>000</u></strong>10<br/>1|11<strong><u>000</u></strong>1<br/>6|11<strong><u>000</u></strong>1<br/><br/>set maximal matches for haplotype 5:<br/><br/>5|100010<br/>1|<strong><u>1</u></strong>10001<br/>2|<strong><u>1</u></strong>11111<br/>6|<strong><u>1</u></strong>10001<br/>4|0<strong><u>000</u></strong>00<br/><br/>set maximal matches for haplotype 7:<br/><br/>7|010110<br/>0|<strong><u>0101</u></strong>01<br/><br/></pre>"
      ]
     },
     "metadata": {},
     "output_type": "display_data"
    }
   ],
   "source": [
    "display_set_maximal_matches(X)"
   ]
  },
  {
   "cell_type": "code",
   "execution_count": 20,
   "metadata": {},
   "outputs": [
    {
     "data": {
      "text/html": [
       "<pre style=\"line-height: 100%\">set maximal matches for haplotype 0:<br/><br/>0|001111011001010100111100111000<br/>1|<strong><u>0011</u></strong>01100101001100010111000110<br/>2|1010<strong><u>1101</u></strong>0111000001010111000000<br/>1|0011011001<strong><u>010</u></strong>01100010111000110<br/>2|10101101011100<strong><u>0</u></strong>001010111000000<br/>1|001101100101001<strong><u>100</u></strong>010111000110<br/>1|0011011001010011000<strong><u>1</u></strong>0111000110<br/>2|1010110101110000010<strong><u>1</u></strong>0111000000<br/>1|001101100101001100010<strong><u>1</u></strong>11000110<br/>2|101011010111000001010<strong><u>1</u></strong>11000000<br/><br/>set maximal matches for haplotype 1:<br/><br/>1|001101100101001100010111000110<br/>0|<strong><u>0011</u></strong>11011001010100111100111000<br/>2|10101<strong><u>1</u></strong>010111000001010111000000<br/>0|00111<strong><u>1</u></strong>011001010100111100111000<br/>2|10101101<strong><u>01</u></strong>11000001010111000000<br/>0|0011110110<strong><u>010</u></strong>10100111100111000<br/>2|10101101011<strong><u>100</u></strong>0001010111000000<br/>0|001111011001010<strong><u>100</u></strong>111100111000<br/>2|101011010111000001<strong><u>010111000</u></strong>000<br/><br/>set maximal matches for haplotype 2:<br/><br/>2|101011010111000001010111000000<br/>0|0<strong><u>01</u></strong>111011001010100111100111000<br/>1|0<strong><u>01</u></strong>101100101001100010111000110<br/>0|0011<strong><u>1101</u></strong>1001010100111100111000<br/>1|00110110<strong><u>01</u></strong>01001100010111000110<br/>1|00110110010<strong><u>100</u></strong>1100010111000110<br/>0|00111101100101<strong><u>0</u></strong>100111100111000<br/>0|0011110110010101<strong><u>0</u></strong>0111100111000<br/>1|0011011001010011<strong><u>0</u></strong>0010111000110<br/>1|001101100101001100<strong><u>010111000</u></strong>110<br/><br/></pre>"
      ]
     },
     "metadata": {},
     "output_type": "display_data"
    }
   ],
   "source": [
    "import random\n",
    "M = 3\n",
    "N = 30\n",
    "Y = [[random.randint(0, 1) for _ in range(N)] for _ in range(M)]\n",
    "display_set_maximal_matches(Y)\n"
   ]
  },
  {
   "cell_type": "code",
   "execution_count": null,
   "metadata": {},
   "outputs": [],
   "source": []
  }
 ],
 "metadata": {
  "kernelspec": {
   "display_name": "Python 3",
   "language": "python",
   "name": "python3"
  },
  "language_info": {
   "codemirror_mode": {
    "name": "ipython",
    "version": 3
   },
   "file_extension": ".py",
   "mimetype": "text/x-python",
   "name": "python",
   "nbconvert_exporter": "python",
   "pygments_lexer": "ipython3",
   "version": "3.6.6"
  }
 },
 "nbformat": 4,
 "nbformat_minor": 2
}
